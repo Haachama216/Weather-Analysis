{
 "cells": [
  {
   "cell_type": "markdown",
   "metadata": {},
   "source": [
    "# Các thư viện"
   ]
  },
  {
   "cell_type": "markdown",
   "metadata": {},
   "source": [
    "Ta cần cài đặt thư viện:\n",
    "`pip install pycountry-convert`"
   ]
  },
  {
   "cell_type": "code",
   "execution_count": 1,
   "metadata": {},
   "outputs": [],
   "source": [
    "import pandas as pd\n",
    "import numpy as np\n",
    "\n",
    "import pycountry_convert"
   ]
  },
  {
   "cell_type": "markdown",
   "metadata": {},
   "source": [
    "# Đọc dữ liệu"
   ]
  },
  {
   "cell_type": "code",
   "execution_count": 2,
   "metadata": {},
   "outputs": [
    {
     "data": {
      "text/html": [
       "<div>\n",
       "<style scoped>\n",
       "    .dataframe tbody tr th:only-of-type {\n",
       "        vertical-align: middle;\n",
       "    }\n",
       "\n",
       "    .dataframe tbody tr th {\n",
       "        vertical-align: top;\n",
       "    }\n",
       "\n",
       "    .dataframe thead th {\n",
       "        text-align: right;\n",
       "    }\n",
       "</style>\n",
       "<table border=\"1\" class=\"dataframe\">\n",
       "  <thead>\n",
       "    <tr style=\"text-align: right;\">\n",
       "      <th></th>\n",
       "      <th>date</th>\n",
       "      <th>country</th>\n",
       "      <th>city</th>\n",
       "      <th>Latitude</th>\n",
       "      <th>Longitude</th>\n",
       "      <th>tavg</th>\n",
       "      <th>tmin</th>\n",
       "      <th>tmax</th>\n",
       "      <th>wdir</th>\n",
       "      <th>wspd</th>\n",
       "      <th>pres</th>\n",
       "    </tr>\n",
       "  </thead>\n",
       "  <tbody>\n",
       "    <tr>\n",
       "      <th>0</th>\n",
       "      <td>21-07-2018</td>\n",
       "      <td>Abkhazia</td>\n",
       "      <td>Sukhumi</td>\n",
       "      <td>43.001525</td>\n",
       "      <td>41.023415</td>\n",
       "      <td>23.4</td>\n",
       "      <td>20.9</td>\n",
       "      <td>25.5</td>\n",
       "      <td>329.0</td>\n",
       "      <td>9.3</td>\n",
       "      <td>1009.6</td>\n",
       "    </tr>\n",
       "    <tr>\n",
       "      <th>1</th>\n",
       "      <td>22-07-2018</td>\n",
       "      <td>Abkhazia</td>\n",
       "      <td>Sukhumi</td>\n",
       "      <td>43.001525</td>\n",
       "      <td>41.023415</td>\n",
       "      <td>23.5</td>\n",
       "      <td>21.0</td>\n",
       "      <td>25.7</td>\n",
       "      <td>337.0</td>\n",
       "      <td>9.4</td>\n",
       "      <td>1010.0</td>\n",
       "    </tr>\n",
       "    <tr>\n",
       "      <th>2</th>\n",
       "      <td>23-07-2018</td>\n",
       "      <td>Abkhazia</td>\n",
       "      <td>Sukhumi</td>\n",
       "      <td>43.001525</td>\n",
       "      <td>41.023415</td>\n",
       "      <td>23.5</td>\n",
       "      <td>21.1</td>\n",
       "      <td>25.5</td>\n",
       "      <td>41.0</td>\n",
       "      <td>8.2</td>\n",
       "      <td>1007.7</td>\n",
       "    </tr>\n",
       "    <tr>\n",
       "      <th>3</th>\n",
       "      <td>24-07-2018</td>\n",
       "      <td>Abkhazia</td>\n",
       "      <td>Sukhumi</td>\n",
       "      <td>43.001525</td>\n",
       "      <td>41.023415</td>\n",
       "      <td>24.3</td>\n",
       "      <td>20.8</td>\n",
       "      <td>27.1</td>\n",
       "      <td>10.0</td>\n",
       "      <td>9.3</td>\n",
       "      <td>1004.4</td>\n",
       "    </tr>\n",
       "    <tr>\n",
       "      <th>4</th>\n",
       "      <td>25-07-2018</td>\n",
       "      <td>Abkhazia</td>\n",
       "      <td>Sukhumi</td>\n",
       "      <td>43.001525</td>\n",
       "      <td>41.023415</td>\n",
       "      <td>26.5</td>\n",
       "      <td>22.7</td>\n",
       "      <td>30.0</td>\n",
       "      <td>9.0</td>\n",
       "      <td>9.7</td>\n",
       "      <td>1002.0</td>\n",
       "    </tr>\n",
       "  </tbody>\n",
       "</table>\n",
       "</div>"
      ],
      "text/plain": [
       "         date   country     city   Latitude  Longitude  tavg  tmin  tmax  \\\n",
       "0  21-07-2018  Abkhazia  Sukhumi  43.001525  41.023415  23.4  20.9  25.5   \n",
       "1  22-07-2018  Abkhazia  Sukhumi  43.001525  41.023415  23.5  21.0  25.7   \n",
       "2  23-07-2018  Abkhazia  Sukhumi  43.001525  41.023415  23.5  21.1  25.5   \n",
       "3  24-07-2018  Abkhazia  Sukhumi  43.001525  41.023415  24.3  20.8  27.1   \n",
       "4  25-07-2018  Abkhazia  Sukhumi  43.001525  41.023415  26.5  22.7  30.0   \n",
       "\n",
       "    wdir  wspd    pres  \n",
       "0  329.0   9.3  1009.6  \n",
       "1  337.0   9.4  1010.0  \n",
       "2   41.0   8.2  1007.7  \n",
       "3   10.0   9.3  1004.4  \n",
       "4    9.0   9.7  1002.0  "
      ]
     },
     "execution_count": 2,
     "metadata": {},
     "output_type": "execute_result"
    }
   ],
   "source": [
    "weather_df = pd.read_csv('data/raw/daily_weather_data.csv')\n",
    "weather_df.head(5)"
   ]
  },
  {
   "cell_type": "markdown",
   "metadata": {},
   "source": [
    "# Thông tin về dataset"
   ]
  },
  {
   "cell_type": "code",
   "execution_count": 3,
   "metadata": {},
   "outputs": [
    {
     "name": "stdout",
     "output_type": "stream",
     "text": [
      "Số dòng: 324647\n",
      "Số cột: 11\n"
     ]
    }
   ],
   "source": [
    "num_rows, num_cols = weather_df.shape\n",
    "print('Số dòng: {}\\nSố cột: {}'.format(num_rows, num_cols))"
   ]
  },
  {
   "cell_type": "markdown",
   "metadata": {},
   "source": [
    "# Chuyển cột __date__ sang kiểu _datetime_"
   ]
  },
  {
   "cell_type": "markdown",
   "metadata": {},
   "source": [
    "### Kiểu ban đầu"
   ]
  },
  {
   "cell_type": "code",
   "execution_count": 4,
   "metadata": {},
   "outputs": [
    {
     "data": {
      "text/plain": [
       "dtype('O')"
      ]
     },
     "execution_count": 4,
     "metadata": {},
     "output_type": "execute_result"
    }
   ],
   "source": [
    "weather_df[\"date\"].dtypes"
   ]
  },
  {
   "cell_type": "markdown",
   "metadata": {},
   "source": [
    "### Chuyển sang _datetime_"
   ]
  },
  {
   "cell_type": "code",
   "execution_count": 5,
   "metadata": {},
   "outputs": [
    {
     "data": {
      "text/plain": [
       "dtype('<M8[ns]')"
      ]
     },
     "execution_count": 5,
     "metadata": {},
     "output_type": "execute_result"
    }
   ],
   "source": [
    "weather_df['date']= pd.to_datetime(weather_df['date'], format='%d-%m-%Y')\n",
    "weather_df['date'].dtypes # '<M8[ns]' is datetime64[ns]"
   ]
  },
  {
   "cell_type": "markdown",
   "metadata": {},
   "source": [
    "# Thời gian thu thập dữ liệu"
   ]
  },
  {
   "cell_type": "code",
   "execution_count": 21,
   "metadata": {},
   "outputs": [
    {
     "name": "stdout",
     "output_type": "stream",
     "text": [
      "2018-01-01 00:00:00\n",
      "2022-10-11 00:00:00\n"
     ]
    }
   ],
   "source": [
    "print(weather_df['date'].min())\n",
    "print(weather_df['date'].max())"
   ]
  },
  {
   "cell_type": "markdown",
   "metadata": {},
   "source": [
    "# Loại bỏ các dòng chứa các giá trị thiếu"
   ]
  },
  {
   "cell_type": "markdown",
   "metadata": {},
   "source": [
    "Có 5 cột chứa giá trị rỗng: <span style=\"color: yellow;\"> wdir, pres, wspd, tmax, tmin, tavg</span> (ta sẽ lưu tạm vào biến __numeric_cols__). Các cột còn lại không mô tả thông số về thời tiết nên tạm thời chưa nhắc đến.\n",
    "Ta sẽ xử lý như sau:\n",
    "- Xóa các dòng thiếu tất cả các giá trị của các cột trên"
   ]
  },
  {
   "cell_type": "code",
   "execution_count": 6,
   "metadata": {},
   "outputs": [],
   "source": [
    "numeric_cols = ['tavg','tmin','tmax','wdir','wspd','pres']"
   ]
  },
  {
   "cell_type": "markdown",
   "metadata": {},
   "source": [
    "### Số dòng chứa giá trị rỗng bất kì"
   ]
  },
  {
   "cell_type": "code",
   "execution_count": 7,
   "metadata": {},
   "outputs": [
    {
     "name": "stdout",
     "output_type": "stream",
     "text": [
      "Phần trăm các-dòng-thiếu/tổng-số-dòng: 14.51 %\n"
     ]
    }
   ],
   "source": [
    "any_nan = len(weather_df[weather_df.isnull().any(axis=1)])\n",
    "print(f\"Phần trăm các-dòng-thiếu/tổng-số-dòng: {round(any_nan * 100 / num_rows, 2)} %\")"
   ]
  },
  {
   "cell_type": "markdown",
   "metadata": {},
   "source": [
    "Số dòng thiếu khá lớn, không thể xóa hết đi được"
   ]
  },
  {
   "cell_type": "markdown",
   "metadata": {},
   "source": [
    "### Các dòng thiếu tất cả giá trị quan trọng"
   ]
  },
  {
   "cell_type": "code",
   "execution_count": 8,
   "metadata": {},
   "outputs": [
    {
     "data": {
      "text/html": [
       "<div>\n",
       "<style scoped>\n",
       "    .dataframe tbody tr th:only-of-type {\n",
       "        vertical-align: middle;\n",
       "    }\n",
       "\n",
       "    .dataframe tbody tr th {\n",
       "        vertical-align: top;\n",
       "    }\n",
       "\n",
       "    .dataframe thead th {\n",
       "        text-align: right;\n",
       "    }\n",
       "</style>\n",
       "<table border=\"1\" class=\"dataframe\">\n",
       "  <thead>\n",
       "    <tr style=\"text-align: right;\">\n",
       "      <th></th>\n",
       "      <th>date</th>\n",
       "      <th>country</th>\n",
       "      <th>city</th>\n",
       "      <th>Latitude</th>\n",
       "      <th>Longitude</th>\n",
       "      <th>tavg</th>\n",
       "      <th>tmin</th>\n",
       "      <th>tmax</th>\n",
       "      <th>wdir</th>\n",
       "      <th>wspd</th>\n",
       "      <th>pres</th>\n",
       "    </tr>\n",
       "  </thead>\n",
       "  <tbody>\n",
       "    <tr>\n",
       "      <th>1413</th>\n",
       "      <td>2022-06-03</td>\n",
       "      <td>Abkhazia</td>\n",
       "      <td>Sukhumi</td>\n",
       "      <td>43.001525</td>\n",
       "      <td>41.023415</td>\n",
       "      <td>NaN</td>\n",
       "      <td>NaN</td>\n",
       "      <td>NaN</td>\n",
       "      <td>NaN</td>\n",
       "      <td>NaN</td>\n",
       "      <td>NaN</td>\n",
       "    </tr>\n",
       "    <tr>\n",
       "      <th>1414</th>\n",
       "      <td>2022-06-04</td>\n",
       "      <td>Abkhazia</td>\n",
       "      <td>Sukhumi</td>\n",
       "      <td>43.001525</td>\n",
       "      <td>41.023415</td>\n",
       "      <td>NaN</td>\n",
       "      <td>NaN</td>\n",
       "      <td>NaN</td>\n",
       "      <td>NaN</td>\n",
       "      <td>NaN</td>\n",
       "      <td>NaN</td>\n",
       "    </tr>\n",
       "    <tr>\n",
       "      <th>1415</th>\n",
       "      <td>2022-06-05</td>\n",
       "      <td>Abkhazia</td>\n",
       "      <td>Sukhumi</td>\n",
       "      <td>43.001525</td>\n",
       "      <td>41.023415</td>\n",
       "      <td>NaN</td>\n",
       "      <td>NaN</td>\n",
       "      <td>NaN</td>\n",
       "      <td>NaN</td>\n",
       "      <td>NaN</td>\n",
       "      <td>NaN</td>\n",
       "    </tr>\n",
       "    <tr>\n",
       "      <th>1416</th>\n",
       "      <td>2022-06-06</td>\n",
       "      <td>Abkhazia</td>\n",
       "      <td>Sukhumi</td>\n",
       "      <td>43.001525</td>\n",
       "      <td>41.023415</td>\n",
       "      <td>NaN</td>\n",
       "      <td>NaN</td>\n",
       "      <td>NaN</td>\n",
       "      <td>NaN</td>\n",
       "      <td>NaN</td>\n",
       "      <td>NaN</td>\n",
       "    </tr>\n",
       "    <tr>\n",
       "      <th>1417</th>\n",
       "      <td>2022-06-07</td>\n",
       "      <td>Abkhazia</td>\n",
       "      <td>Sukhumi</td>\n",
       "      <td>43.001525</td>\n",
       "      <td>41.023415</td>\n",
       "      <td>NaN</td>\n",
       "      <td>NaN</td>\n",
       "      <td>NaN</td>\n",
       "      <td>NaN</td>\n",
       "      <td>NaN</td>\n",
       "      <td>NaN</td>\n",
       "    </tr>\n",
       "    <tr>\n",
       "      <th>...</th>\n",
       "      <td>...</td>\n",
       "      <td>...</td>\n",
       "      <td>...</td>\n",
       "      <td>...</td>\n",
       "      <td>...</td>\n",
       "      <td>...</td>\n",
       "      <td>...</td>\n",
       "      <td>...</td>\n",
       "      <td>...</td>\n",
       "      <td>...</td>\n",
       "      <td>...</td>\n",
       "    </tr>\n",
       "    <tr>\n",
       "      <th>323970</th>\n",
       "      <td>2020-12-04</td>\n",
       "      <td>Western Sahara</td>\n",
       "      <td>El Aaiún</td>\n",
       "      <td>27.125287</td>\n",
       "      <td>-13.162500</td>\n",
       "      <td>NaN</td>\n",
       "      <td>NaN</td>\n",
       "      <td>NaN</td>\n",
       "      <td>NaN</td>\n",
       "      <td>NaN</td>\n",
       "      <td>NaN</td>\n",
       "    </tr>\n",
       "    <tr>\n",
       "      <th>323984</th>\n",
       "      <td>2020-12-18</td>\n",
       "      <td>Western Sahara</td>\n",
       "      <td>El Aaiún</td>\n",
       "      <td>27.125287</td>\n",
       "      <td>-13.162500</td>\n",
       "      <td>NaN</td>\n",
       "      <td>NaN</td>\n",
       "      <td>NaN</td>\n",
       "      <td>NaN</td>\n",
       "      <td>NaN</td>\n",
       "      <td>NaN</td>\n",
       "    </tr>\n",
       "    <tr>\n",
       "      <th>323997</th>\n",
       "      <td>2020-12-31</td>\n",
       "      <td>Western Sahara</td>\n",
       "      <td>El Aaiún</td>\n",
       "      <td>27.125287</td>\n",
       "      <td>-13.162500</td>\n",
       "      <td>NaN</td>\n",
       "      <td>NaN</td>\n",
       "      <td>NaN</td>\n",
       "      <td>NaN</td>\n",
       "      <td>NaN</td>\n",
       "      <td>NaN</td>\n",
       "    </tr>\n",
       "    <tr>\n",
       "      <th>324133</th>\n",
       "      <td>2021-05-16</td>\n",
       "      <td>Western Sahara</td>\n",
       "      <td>El Aaiún</td>\n",
       "      <td>27.125287</td>\n",
       "      <td>-13.162500</td>\n",
       "      <td>NaN</td>\n",
       "      <td>NaN</td>\n",
       "      <td>NaN</td>\n",
       "      <td>NaN</td>\n",
       "      <td>NaN</td>\n",
       "      <td>NaN</td>\n",
       "    </tr>\n",
       "    <tr>\n",
       "      <th>324490</th>\n",
       "      <td>2022-05-08</td>\n",
       "      <td>Western Sahara</td>\n",
       "      <td>El Aaiún</td>\n",
       "      <td>27.125287</td>\n",
       "      <td>-13.162500</td>\n",
       "      <td>NaN</td>\n",
       "      <td>NaN</td>\n",
       "      <td>NaN</td>\n",
       "      <td>NaN</td>\n",
       "      <td>NaN</td>\n",
       "      <td>NaN</td>\n",
       "    </tr>\n",
       "  </tbody>\n",
       "</table>\n",
       "<p>7436 rows × 11 columns</p>\n",
       "</div>"
      ],
      "text/plain": [
       "             date         country      city   Latitude  Longitude  tavg  tmin  \\\n",
       "1413   2022-06-03        Abkhazia   Sukhumi  43.001525  41.023415   NaN   NaN   \n",
       "1414   2022-06-04        Abkhazia   Sukhumi  43.001525  41.023415   NaN   NaN   \n",
       "1415   2022-06-05        Abkhazia   Sukhumi  43.001525  41.023415   NaN   NaN   \n",
       "1416   2022-06-06        Abkhazia   Sukhumi  43.001525  41.023415   NaN   NaN   \n",
       "1417   2022-06-07        Abkhazia   Sukhumi  43.001525  41.023415   NaN   NaN   \n",
       "...           ...             ...       ...        ...        ...   ...   ...   \n",
       "323970 2020-12-04  Western Sahara  El Aaiún  27.125287 -13.162500   NaN   NaN   \n",
       "323984 2020-12-18  Western Sahara  El Aaiún  27.125287 -13.162500   NaN   NaN   \n",
       "323997 2020-12-31  Western Sahara  El Aaiún  27.125287 -13.162500   NaN   NaN   \n",
       "324133 2021-05-16  Western Sahara  El Aaiún  27.125287 -13.162500   NaN   NaN   \n",
       "324490 2022-05-08  Western Sahara  El Aaiún  27.125287 -13.162500   NaN   NaN   \n",
       "\n",
       "        tmax  wdir  wspd  pres  \n",
       "1413     NaN   NaN   NaN   NaN  \n",
       "1414     NaN   NaN   NaN   NaN  \n",
       "1415     NaN   NaN   NaN   NaN  \n",
       "1416     NaN   NaN   NaN   NaN  \n",
       "1417     NaN   NaN   NaN   NaN  \n",
       "...      ...   ...   ...   ...  \n",
       "323970   NaN   NaN   NaN   NaN  \n",
       "323984   NaN   NaN   NaN   NaN  \n",
       "323997   NaN   NaN   NaN   NaN  \n",
       "324133   NaN   NaN   NaN   NaN  \n",
       "324490   NaN   NaN   NaN   NaN  \n",
       "\n",
       "[7436 rows x 11 columns]"
      ]
     },
     "execution_count": 8,
     "metadata": {},
     "output_type": "execute_result"
    }
   ],
   "source": [
    "weather_df[weather_df[numeric_cols].isnull().all(axis=1)]"
   ]
  },
  {
   "cell_type": "code",
   "execution_count": 9,
   "metadata": {},
   "outputs": [
    {
     "name": "stdout",
     "output_type": "stream",
     "text": [
      "Phần trăm các-dòng-thiếu/tổng-số-dòng: 2.29 %\n"
     ]
    }
   ],
   "source": [
    "all_nan = len(weather_df[weather_df[numeric_cols].isnull().all(axis=1)])\n",
    "print(f\"Phần trăm các-dòng-thiếu/tổng-số-dòng: {round(all_nan * 100 / num_rows, 2)} %\")"
   ]
  },
  {
   "cell_type": "markdown",
   "metadata": {},
   "source": [
    "### Phần trăm khá nhỏ, ta có thể xóa đi những dòng này:"
   ]
  },
  {
   "cell_type": "code",
   "execution_count": 10,
   "metadata": {},
   "outputs": [
    {
     "data": {
      "text/plain": [
       "(317211, 11)"
      ]
     },
     "execution_count": 10,
     "metadata": {},
     "output_type": "execute_result"
    }
   ],
   "source": [
    "weather_df.dropna(subset=numeric_cols, how='all', axis='index', inplace=True)\n",
    "weather_df.shape"
   ]
  },
  {
   "cell_type": "markdown",
   "metadata": {},
   "source": [
    "# Thêm cột __continent__ dựa vào cột country"
   ]
  },
  {
   "cell_type": "markdown",
   "metadata": {},
   "source": [
    "Ta sẽ sử dụng thư viện <span style='color:pink;'>pycountry_convert</span>\n",
    "- Thư viện này dựa vào thông tin về mã quốc gia trên wiki, [hướng dẫn sử dụng](https://pypi.org/project/pycountry-convert/)\n",
    "- Ta cần đầu vào là tên quốc gia, VD: France.\n",
    "- Sau đó method `country_name_to_country_alpha2` sẽ chuyển thành mã quốc gia tương ứng FR.\n",
    "- Method `country_alpha2_to_continent_code` sẽ chuyển FR thành mã lục địa: EU\n",
    "- Ta cần chuyển sang tên lục địa: EU -> Europe"
   ]
  },
  {
   "cell_type": "markdown",
   "metadata": {},
   "source": [
    "- Nhược điểm của thư viện __pycountry-convert__: \n",
    "  - Một số quốc gia không trùng tên sẽ báo lỗi (ta sẽ lưu những quốc gia này lại và xử lý thủ công)\n",
    "  - Tuy thông tin tìm được trên Wiki hiển thị kết quả về mã quốc gia, nhưng thư viện này lại báo lỗi không tìm thấy (có lẽ thư viện hơi lỗi thời)\n",
    "  - Chỉ dịch đến mã lục địa, còn tên lục địa thì phải xử lý thủ công"
   ]
  },
  {
   "cell_type": "code",
   "execution_count": 11,
   "metadata": {},
   "outputs": [],
   "source": [
    "country_not_found = []\n",
    "\n",
    "def convert_countryName_to_continentCode(row):\n",
    "    '''\n",
    "    input: single row of a dataframe\n",
    "    output: country code (AS: Asia, EU: Europe, ...)\n",
    "    convert country name to continent code. If the country is not found, return country name\n",
    "    '''\n",
    "    try:\n",
    "        # country name -> country code (France -> FR)\n",
    "        cn_code = pycountry_convert.country_name_to_country_alpha2(row.country, cn_name_format='default')\n",
    "        # country code -> continent code (FR -> EU)\n",
    "        conti_code = pycountry_convert.country_alpha2_to_continent_code(cn_code)\n",
    "    except KeyError:\n",
    "        country_not_found.append(row.country)\n",
    "        return row.country\n",
    "\n",
    "    return conti_code"
   ]
  },
  {
   "cell_type": "markdown",
   "metadata": {},
   "source": [
    "Cách xử lý khi báo lỗi không có quốc gia tương ứng:\n",
    "- Lưu tạm kết quả là __tên quốc gia__ đó (dòng `return row.country`)\n",
    "- Lưu __tên quốc gia__ không xử lý được. Tạo dict và gán thủ công (tra thông tin trên mạng)"
   ]
  },
  {
   "cell_type": "code",
   "execution_count": 12,
   "metadata": {},
   "outputs": [
    {
     "data": {
      "text/html": [
       "<div>\n",
       "<style scoped>\n",
       "    .dataframe tbody tr th:only-of-type {\n",
       "        vertical-align: middle;\n",
       "    }\n",
       "\n",
       "    .dataframe tbody tr th {\n",
       "        vertical-align: top;\n",
       "    }\n",
       "\n",
       "    .dataframe thead th {\n",
       "        text-align: right;\n",
       "    }\n",
       "</style>\n",
       "<table border=\"1\" class=\"dataframe\">\n",
       "  <thead>\n",
       "    <tr style=\"text-align: right;\">\n",
       "      <th></th>\n",
       "      <th>date</th>\n",
       "      <th>country</th>\n",
       "      <th>city</th>\n",
       "      <th>Latitude</th>\n",
       "      <th>Longitude</th>\n",
       "      <th>tavg</th>\n",
       "      <th>tmin</th>\n",
       "      <th>tmax</th>\n",
       "      <th>wdir</th>\n",
       "      <th>wspd</th>\n",
       "      <th>pres</th>\n",
       "      <th>continent</th>\n",
       "    </tr>\n",
       "  </thead>\n",
       "  <tbody>\n",
       "    <tr>\n",
       "      <th>0</th>\n",
       "      <td>2018-07-21</td>\n",
       "      <td>Abkhazia</td>\n",
       "      <td>Sukhumi</td>\n",
       "      <td>43.001525</td>\n",
       "      <td>41.023415</td>\n",
       "      <td>23.4</td>\n",
       "      <td>20.9</td>\n",
       "      <td>25.5</td>\n",
       "      <td>329.0</td>\n",
       "      <td>9.3</td>\n",
       "      <td>1009.6</td>\n",
       "      <td>Abkhazia</td>\n",
       "    </tr>\n",
       "    <tr>\n",
       "      <th>1</th>\n",
       "      <td>2018-07-22</td>\n",
       "      <td>Abkhazia</td>\n",
       "      <td>Sukhumi</td>\n",
       "      <td>43.001525</td>\n",
       "      <td>41.023415</td>\n",
       "      <td>23.5</td>\n",
       "      <td>21.0</td>\n",
       "      <td>25.7</td>\n",
       "      <td>337.0</td>\n",
       "      <td>9.4</td>\n",
       "      <td>1010.0</td>\n",
       "      <td>Abkhazia</td>\n",
       "    </tr>\n",
       "    <tr>\n",
       "      <th>2</th>\n",
       "      <td>2018-07-23</td>\n",
       "      <td>Abkhazia</td>\n",
       "      <td>Sukhumi</td>\n",
       "      <td>43.001525</td>\n",
       "      <td>41.023415</td>\n",
       "      <td>23.5</td>\n",
       "      <td>21.1</td>\n",
       "      <td>25.5</td>\n",
       "      <td>41.0</td>\n",
       "      <td>8.2</td>\n",
       "      <td>1007.7</td>\n",
       "      <td>Abkhazia</td>\n",
       "    </tr>\n",
       "    <tr>\n",
       "      <th>3</th>\n",
       "      <td>2018-07-24</td>\n",
       "      <td>Abkhazia</td>\n",
       "      <td>Sukhumi</td>\n",
       "      <td>43.001525</td>\n",
       "      <td>41.023415</td>\n",
       "      <td>24.3</td>\n",
       "      <td>20.8</td>\n",
       "      <td>27.1</td>\n",
       "      <td>10.0</td>\n",
       "      <td>9.3</td>\n",
       "      <td>1004.4</td>\n",
       "      <td>Abkhazia</td>\n",
       "    </tr>\n",
       "    <tr>\n",
       "      <th>4</th>\n",
       "      <td>2018-07-25</td>\n",
       "      <td>Abkhazia</td>\n",
       "      <td>Sukhumi</td>\n",
       "      <td>43.001525</td>\n",
       "      <td>41.023415</td>\n",
       "      <td>26.5</td>\n",
       "      <td>22.7</td>\n",
       "      <td>30.0</td>\n",
       "      <td>9.0</td>\n",
       "      <td>9.7</td>\n",
       "      <td>1002.0</td>\n",
       "      <td>Abkhazia</td>\n",
       "    </tr>\n",
       "    <tr>\n",
       "      <th>...</th>\n",
       "      <td>...</td>\n",
       "      <td>...</td>\n",
       "      <td>...</td>\n",
       "      <td>...</td>\n",
       "      <td>...</td>\n",
       "      <td>...</td>\n",
       "      <td>...</td>\n",
       "      <td>...</td>\n",
       "      <td>...</td>\n",
       "      <td>...</td>\n",
       "      <td>...</td>\n",
       "      <td>...</td>\n",
       "    </tr>\n",
       "    <tr>\n",
       "      <th>324642</th>\n",
       "      <td>2022-10-07</td>\n",
       "      <td>Western Sahara</td>\n",
       "      <td>El Aaiún</td>\n",
       "      <td>27.125287</td>\n",
       "      <td>-13.162500</td>\n",
       "      <td>22.1</td>\n",
       "      <td>18.6</td>\n",
       "      <td>25.6</td>\n",
       "      <td>3.0</td>\n",
       "      <td>24.7</td>\n",
       "      <td>1013.7</td>\n",
       "      <td>Western Sahara</td>\n",
       "    </tr>\n",
       "    <tr>\n",
       "      <th>324643</th>\n",
       "      <td>2022-10-08</td>\n",
       "      <td>Western Sahara</td>\n",
       "      <td>El Aaiún</td>\n",
       "      <td>27.125287</td>\n",
       "      <td>-13.162500</td>\n",
       "      <td>22.1</td>\n",
       "      <td>19.6</td>\n",
       "      <td>25.6</td>\n",
       "      <td>2.0</td>\n",
       "      <td>20.5</td>\n",
       "      <td>1013.0</td>\n",
       "      <td>Western Sahara</td>\n",
       "    </tr>\n",
       "    <tr>\n",
       "      <th>324644</th>\n",
       "      <td>2022-10-09</td>\n",
       "      <td>Western Sahara</td>\n",
       "      <td>El Aaiún</td>\n",
       "      <td>27.125287</td>\n",
       "      <td>-13.162500</td>\n",
       "      <td>23.4</td>\n",
       "      <td>19.6</td>\n",
       "      <td>29.6</td>\n",
       "      <td>34.0</td>\n",
       "      <td>24.0</td>\n",
       "      <td>1015.4</td>\n",
       "      <td>Western Sahara</td>\n",
       "    </tr>\n",
       "    <tr>\n",
       "      <th>324645</th>\n",
       "      <td>2022-10-10</td>\n",
       "      <td>Western Sahara</td>\n",
       "      <td>El Aaiún</td>\n",
       "      <td>27.125287</td>\n",
       "      <td>-13.162500</td>\n",
       "      <td>23.1</td>\n",
       "      <td>18.6</td>\n",
       "      <td>29.7</td>\n",
       "      <td>39.0</td>\n",
       "      <td>28.4</td>\n",
       "      <td>1017.6</td>\n",
       "      <td>Western Sahara</td>\n",
       "    </tr>\n",
       "    <tr>\n",
       "      <th>324646</th>\n",
       "      <td>2022-10-11</td>\n",
       "      <td>Western Sahara</td>\n",
       "      <td>El Aaiún</td>\n",
       "      <td>27.125287</td>\n",
       "      <td>-13.162500</td>\n",
       "      <td>21.4</td>\n",
       "      <td>17.3</td>\n",
       "      <td>27.5</td>\n",
       "      <td>21.0</td>\n",
       "      <td>21.3</td>\n",
       "      <td>1018.6</td>\n",
       "      <td>Western Sahara</td>\n",
       "    </tr>\n",
       "  </tbody>\n",
       "</table>\n",
       "<p>317211 rows × 12 columns</p>\n",
       "</div>"
      ],
      "text/plain": [
       "             date         country      city   Latitude  Longitude  tavg  tmin  \\\n",
       "0      2018-07-21        Abkhazia   Sukhumi  43.001525  41.023415  23.4  20.9   \n",
       "1      2018-07-22        Abkhazia   Sukhumi  43.001525  41.023415  23.5  21.0   \n",
       "2      2018-07-23        Abkhazia   Sukhumi  43.001525  41.023415  23.5  21.1   \n",
       "3      2018-07-24        Abkhazia   Sukhumi  43.001525  41.023415  24.3  20.8   \n",
       "4      2018-07-25        Abkhazia   Sukhumi  43.001525  41.023415  26.5  22.7   \n",
       "...           ...             ...       ...        ...        ...   ...   ...   \n",
       "324642 2022-10-07  Western Sahara  El Aaiún  27.125287 -13.162500  22.1  18.6   \n",
       "324643 2022-10-08  Western Sahara  El Aaiún  27.125287 -13.162500  22.1  19.6   \n",
       "324644 2022-10-09  Western Sahara  El Aaiún  27.125287 -13.162500  23.4  19.6   \n",
       "324645 2022-10-10  Western Sahara  El Aaiún  27.125287 -13.162500  23.1  18.6   \n",
       "324646 2022-10-11  Western Sahara  El Aaiún  27.125287 -13.162500  21.4  17.3   \n",
       "\n",
       "        tmax   wdir  wspd    pres       continent  \n",
       "0       25.5  329.0   9.3  1009.6        Abkhazia  \n",
       "1       25.7  337.0   9.4  1010.0        Abkhazia  \n",
       "2       25.5   41.0   8.2  1007.7        Abkhazia  \n",
       "3       27.1   10.0   9.3  1004.4        Abkhazia  \n",
       "4       30.0    9.0   9.7  1002.0        Abkhazia  \n",
       "...      ...    ...   ...     ...             ...  \n",
       "324642  25.6    3.0  24.7  1013.7  Western Sahara  \n",
       "324643  25.6    2.0  20.5  1013.0  Western Sahara  \n",
       "324644  29.6   34.0  24.0  1015.4  Western Sahara  \n",
       "324645  29.7   39.0  28.4  1017.6  Western Sahara  \n",
       "324646  27.5   21.0  21.3  1018.6  Western Sahara  \n",
       "\n",
       "[317211 rows x 12 columns]"
      ]
     },
     "execution_count": 12,
     "metadata": {},
     "output_type": "execute_result"
    }
   ],
   "source": [
    "weather_df['continent'] = weather_df.apply(convert_countryName_to_continentCode, axis=1)\n",
    "weather_df"
   ]
  },
  {
   "cell_type": "markdown",
   "metadata": {},
   "source": [
    "Xem kết quả một cách chi tiết hơn"
   ]
  },
  {
   "cell_type": "code",
   "execution_count": 13,
   "metadata": {},
   "outputs": [
    {
     "data": {
      "text/plain": [
       "EU                                   75268\n",
       "AS                                   60253\n",
       "AF                                   55777\n",
       "NA                                   49867\n",
       "OC                                   35780\n",
       "SA                                   14540\n",
       "Vatican City                          1745\n",
       "Congo (DRC)                           1745\n",
       "Congo (Republic)                      1745\n",
       "U.S. Virgin Islands                   1744\n",
       "Macedonia (FYROM)                     1743\n",
       "Aland Islands                         1739\n",
       "French Southern Territories           1738\n",
       "Netherlands Antilles                  1718\n",
       "St. Barthélemy                        1700\n",
       "Abkhazia                              1532\n",
       "Timor-Leste                           1421\n",
       "AN                                    1416\n",
       "Pitcairn Islands                      1399\n",
       "Western Sahara                        1396\n",
       "Tristan da Cunha                       924\n",
       "Transnistria                           729\n",
       "Myanmar (Burma)                        647\n",
       "Falkland Islands (Islas Malvinas)      645\n",
       "Name: continent, dtype: int64"
      ]
     },
     "execution_count": 13,
     "metadata": {},
     "output_type": "execute_result"
    }
   ],
   "source": [
    "weather_df['continent'].value_counts()"
   ]
  },
  {
   "cell_type": "code",
   "execution_count": 14,
   "metadata": {},
   "outputs": [
    {
     "data": {
      "text/plain": [
       "array(['Abkhazia', 'Aland Islands', 'Congo (DRC)', 'Congo (Republic)',\n",
       "       'Falkland Islands (Islas Malvinas)', 'French Southern Territories',\n",
       "       'Macedonia (FYROM)', 'Myanmar (Burma)', 'Netherlands Antilles',\n",
       "       'Pitcairn Islands', 'St. Barthélemy', 'Timor-Leste',\n",
       "       'Transnistria', 'Tristan da Cunha', 'U.S. Virgin Islands',\n",
       "       'Vatican City', 'Western Sahara'], dtype='<U33')"
      ]
     },
     "execution_count": 14,
     "metadata": {},
     "output_type": "execute_result"
    }
   ],
   "source": [
    "country_not_found = np.unique(country_not_found) \n",
    "country_not_found"
   ]
  },
  {
   "cell_type": "markdown",
   "metadata": {},
   "source": [
    "### Thay thế các quốc gia không xử lý được này"
   ]
  },
  {
   "cell_type": "code",
   "execution_count": 15,
   "metadata": {},
   "outputs": [],
   "source": [
    "country_to_continentName = { \n",
    "        'Abkhazia': 'AS', 'Aland Islands': 'EU', 'Congo (DRC)': 'AF', \n",
    "        'Congo (Republic)': 'AF', 'Falkland Islands (Islas Malvinas)': 'SA', \n",
    "        'French Southern Territories': 'AN', 'Macedonia (FYROM)': 'EU', 'Myanmar (Burma)': 'AS', \n",
    "        'Netherlands Antilles': 'SA', 'Pitcairn Islands': 'OC', 'St. Barthélemy': 'NA', \n",
    "        'Timor-Leste': 'AS', 'Transnistria': 'EU', 'Tristan da Cunha': 'AF',\n",
    "        'U.S. Virgin Islands': 'SA', 'Vatican City': 'EU', 'Western Sahara': 'AF'\n",
    "}"
   ]
  },
  {
   "cell_type": "code",
   "execution_count": 16,
   "metadata": {},
   "outputs": [],
   "source": [
    "weather_df = weather_df.replace({'continent': country_to_continentName})"
   ]
  },
  {
   "cell_type": "code",
   "execution_count": 17,
   "metadata": {},
   "outputs": [
    {
     "data": {
      "text/plain": [
       "EU    81224\n",
       "AS    63853\n",
       "AF    61587\n",
       "NA    51567\n",
       "OC    37179\n",
       "SA    18647\n",
       "AN     3154\n",
       "Name: continent, dtype: int64"
      ]
     },
     "execution_count": 17,
     "metadata": {},
     "output_type": "execute_result"
    }
   ],
   "source": [
    "weather_df['continent'].value_counts()"
   ]
  },
  {
   "cell_type": "markdown",
   "metadata": {},
   "source": [
    "### Chuyển _continent code_ này về _continent name_"
   ]
  },
  {
   "cell_type": "code",
   "execution_count": 18,
   "metadata": {},
   "outputs": [],
   "source": [
    "continents_names = {\"EU\": \"Europe\", \n",
    "                    \"AS\": \"Asia\", \n",
    "                    \"AF\":\"Africa\", \n",
    "                    \"NA\": \"North America\", \n",
    "                    \"OC\": \"Oceania\",\n",
    "                    \"SA\": \"South America\",\n",
    "                    \"AN\": \"Antarctica\"}"
   ]
  },
  {
   "cell_type": "code",
   "execution_count": 19,
   "metadata": {},
   "outputs": [
    {
     "data": {
      "text/plain": [
       "Europe           81224\n",
       "Asia             63853\n",
       "Africa           61587\n",
       "North America    51567\n",
       "Oceania          37179\n",
       "South America    18647\n",
       "Antarctica        3154\n",
       "Name: continent, dtype: int64"
      ]
     },
     "execution_count": 19,
     "metadata": {},
     "output_type": "execute_result"
    }
   ],
   "source": [
    "weather_df['continent'] = weather_df['continent'].map(continents_names)\n",
    "weather_df['continent'].value_counts()"
   ]
  },
  {
   "cell_type": "markdown",
   "metadata": {},
   "source": [
    "# Lưu dataset "
   ]
  },
  {
   "cell_type": "markdown",
   "metadata": {},
   "source": [
    "Lưu tại <span style='color:red;'>./data/cleaned/daily_weather_data.csv</span>"
   ]
  },
  {
   "cell_type": "code",
   "execution_count": 20,
   "metadata": {},
   "outputs": [],
   "source": [
    "weather_df.to_csv('./data/cleaned/daily_weather_data.csv', index=False, encoding='utf-8')"
   ]
  }
 ],
 "metadata": {
  "kernelspec": {
   "display_name": "Python 3.8.8 ('min_ds-env')",
   "language": "python",
   "name": "python3"
  },
  "language_info": {
   "codemirror_mode": {
    "name": "ipython",
    "version": 3
   },
   "file_extension": ".py",
   "mimetype": "text/x-python",
   "name": "python",
   "nbconvert_exporter": "python",
   "pygments_lexer": "ipython3",
   "version": "3.8.8"
  },
  "orig_nbformat": 4,
  "vscode": {
   "interpreter": {
    "hash": "930a585fac634add642c8c01d5c8e013a0763df546aa5d22ccab6a2eba337c74"
   }
  }
 },
 "nbformat": 4,
 "nbformat_minor": 2
}
