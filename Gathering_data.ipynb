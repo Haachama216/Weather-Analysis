{
 "cells": [
  {
   "cell_type": "code",
   "execution_count": 25,
   "metadata": {},
   "outputs": [],
   "source": [
    "%matplotlib inline\n",
    "import pandas as pd\n",
    "import numpy as np\n",
    "import matplotlib.pyplot as plt\n",
    "import seaborn as sns\n",
    "sns.set(rc = {'figure.facecolor' : 'white'})"
   ]
  },
  {
   "cell_type": "markdown",
   "metadata": {},
   "source": [
    "Dataset đã được download về và lưu trữ ở directories data/raw với tên file là daily_weather_data.csv"
   ]
  },
  {
   "cell_type": "code",
   "execution_count": 3,
   "metadata": {},
   "outputs": [
    {
     "data": {
      "text/html": [
       "<div>\n",
       "<style scoped>\n",
       "    .dataframe tbody tr th:only-of-type {\n",
       "        vertical-align: middle;\n",
       "    }\n",
       "\n",
       "    .dataframe tbody tr th {\n",
       "        vertical-align: top;\n",
       "    }\n",
       "\n",
       "    .dataframe thead th {\n",
       "        text-align: right;\n",
       "    }\n",
       "</style>\n",
       "<table border=\"1\" class=\"dataframe\">\n",
       "  <thead>\n",
       "    <tr style=\"text-align: right;\">\n",
       "      <th></th>\n",
       "      <th>date</th>\n",
       "      <th>country</th>\n",
       "      <th>city</th>\n",
       "      <th>Latitude</th>\n",
       "      <th>Longitude</th>\n",
       "      <th>tavg</th>\n",
       "      <th>tmin</th>\n",
       "      <th>tmax</th>\n",
       "      <th>wdir</th>\n",
       "      <th>wspd</th>\n",
       "      <th>pres</th>\n",
       "    </tr>\n",
       "  </thead>\n",
       "  <tbody>\n",
       "    <tr>\n",
       "      <th>0</th>\n",
       "      <td>21-07-2018</td>\n",
       "      <td>Abkhazia</td>\n",
       "      <td>Sukhumi</td>\n",
       "      <td>43.001525</td>\n",
       "      <td>41.023415</td>\n",
       "      <td>23.4</td>\n",
       "      <td>20.9</td>\n",
       "      <td>25.5</td>\n",
       "      <td>329.0</td>\n",
       "      <td>9.3</td>\n",
       "      <td>1009.6</td>\n",
       "    </tr>\n",
       "    <tr>\n",
       "      <th>1</th>\n",
       "      <td>22-07-2018</td>\n",
       "      <td>Abkhazia</td>\n",
       "      <td>Sukhumi</td>\n",
       "      <td>43.001525</td>\n",
       "      <td>41.023415</td>\n",
       "      <td>23.5</td>\n",
       "      <td>21.0</td>\n",
       "      <td>25.7</td>\n",
       "      <td>337.0</td>\n",
       "      <td>9.4</td>\n",
       "      <td>1010.0</td>\n",
       "    </tr>\n",
       "    <tr>\n",
       "      <th>2</th>\n",
       "      <td>23-07-2018</td>\n",
       "      <td>Abkhazia</td>\n",
       "      <td>Sukhumi</td>\n",
       "      <td>43.001525</td>\n",
       "      <td>41.023415</td>\n",
       "      <td>23.5</td>\n",
       "      <td>21.1</td>\n",
       "      <td>25.5</td>\n",
       "      <td>41.0</td>\n",
       "      <td>8.2</td>\n",
       "      <td>1007.7</td>\n",
       "    </tr>\n",
       "    <tr>\n",
       "      <th>3</th>\n",
       "      <td>24-07-2018</td>\n",
       "      <td>Abkhazia</td>\n",
       "      <td>Sukhumi</td>\n",
       "      <td>43.001525</td>\n",
       "      <td>41.023415</td>\n",
       "      <td>24.3</td>\n",
       "      <td>20.8</td>\n",
       "      <td>27.1</td>\n",
       "      <td>10.0</td>\n",
       "      <td>9.3</td>\n",
       "      <td>1004.4</td>\n",
       "    </tr>\n",
       "    <tr>\n",
       "      <th>4</th>\n",
       "      <td>25-07-2018</td>\n",
       "      <td>Abkhazia</td>\n",
       "      <td>Sukhumi</td>\n",
       "      <td>43.001525</td>\n",
       "      <td>41.023415</td>\n",
       "      <td>26.5</td>\n",
       "      <td>22.7</td>\n",
       "      <td>30.0</td>\n",
       "      <td>9.0</td>\n",
       "      <td>9.7</td>\n",
       "      <td>1002.0</td>\n",
       "    </tr>\n",
       "    <tr>\n",
       "      <th>...</th>\n",
       "      <td>...</td>\n",
       "      <td>...</td>\n",
       "      <td>...</td>\n",
       "      <td>...</td>\n",
       "      <td>...</td>\n",
       "      <td>...</td>\n",
       "      <td>...</td>\n",
       "      <td>...</td>\n",
       "      <td>...</td>\n",
       "      <td>...</td>\n",
       "      <td>...</td>\n",
       "    </tr>\n",
       "    <tr>\n",
       "      <th>324642</th>\n",
       "      <td>07-10-2022</td>\n",
       "      <td>Western Sahara</td>\n",
       "      <td>El Aaiún</td>\n",
       "      <td>27.125287</td>\n",
       "      <td>-13.162500</td>\n",
       "      <td>22.1</td>\n",
       "      <td>18.6</td>\n",
       "      <td>25.6</td>\n",
       "      <td>3.0</td>\n",
       "      <td>24.7</td>\n",
       "      <td>1013.7</td>\n",
       "    </tr>\n",
       "    <tr>\n",
       "      <th>324643</th>\n",
       "      <td>08-10-2022</td>\n",
       "      <td>Western Sahara</td>\n",
       "      <td>El Aaiún</td>\n",
       "      <td>27.125287</td>\n",
       "      <td>-13.162500</td>\n",
       "      <td>22.1</td>\n",
       "      <td>19.6</td>\n",
       "      <td>25.6</td>\n",
       "      <td>2.0</td>\n",
       "      <td>20.5</td>\n",
       "      <td>1013.0</td>\n",
       "    </tr>\n",
       "    <tr>\n",
       "      <th>324644</th>\n",
       "      <td>09-10-2022</td>\n",
       "      <td>Western Sahara</td>\n",
       "      <td>El Aaiún</td>\n",
       "      <td>27.125287</td>\n",
       "      <td>-13.162500</td>\n",
       "      <td>23.4</td>\n",
       "      <td>19.6</td>\n",
       "      <td>29.6</td>\n",
       "      <td>34.0</td>\n",
       "      <td>24.0</td>\n",
       "      <td>1015.4</td>\n",
       "    </tr>\n",
       "    <tr>\n",
       "      <th>324645</th>\n",
       "      <td>10-10-2022</td>\n",
       "      <td>Western Sahara</td>\n",
       "      <td>El Aaiún</td>\n",
       "      <td>27.125287</td>\n",
       "      <td>-13.162500</td>\n",
       "      <td>23.1</td>\n",
       "      <td>18.6</td>\n",
       "      <td>29.7</td>\n",
       "      <td>39.0</td>\n",
       "      <td>28.4</td>\n",
       "      <td>1017.6</td>\n",
       "    </tr>\n",
       "    <tr>\n",
       "      <th>324646</th>\n",
       "      <td>11-10-2022</td>\n",
       "      <td>Western Sahara</td>\n",
       "      <td>El Aaiún</td>\n",
       "      <td>27.125287</td>\n",
       "      <td>-13.162500</td>\n",
       "      <td>21.4</td>\n",
       "      <td>17.3</td>\n",
       "      <td>27.5</td>\n",
       "      <td>21.0</td>\n",
       "      <td>21.3</td>\n",
       "      <td>1018.6</td>\n",
       "    </tr>\n",
       "  </tbody>\n",
       "</table>\n",
       "<p>324647 rows × 11 columns</p>\n",
       "</div>"
      ],
      "text/plain": [
       "              date         country      city   Latitude  Longitude  tavg  \\\n",
       "0       21-07-2018        Abkhazia   Sukhumi  43.001525  41.023415  23.4   \n",
       "1       22-07-2018        Abkhazia   Sukhumi  43.001525  41.023415  23.5   \n",
       "2       23-07-2018        Abkhazia   Sukhumi  43.001525  41.023415  23.5   \n",
       "3       24-07-2018        Abkhazia   Sukhumi  43.001525  41.023415  24.3   \n",
       "4       25-07-2018        Abkhazia   Sukhumi  43.001525  41.023415  26.5   \n",
       "...            ...             ...       ...        ...        ...   ...   \n",
       "324642  07-10-2022  Western Sahara  El Aaiún  27.125287 -13.162500  22.1   \n",
       "324643  08-10-2022  Western Sahara  El Aaiún  27.125287 -13.162500  22.1   \n",
       "324644  09-10-2022  Western Sahara  El Aaiún  27.125287 -13.162500  23.4   \n",
       "324645  10-10-2022  Western Sahara  El Aaiún  27.125287 -13.162500  23.1   \n",
       "324646  11-10-2022  Western Sahara  El Aaiún  27.125287 -13.162500  21.4   \n",
       "\n",
       "        tmin  tmax   wdir  wspd    pres  \n",
       "0       20.9  25.5  329.0   9.3  1009.6  \n",
       "1       21.0  25.7  337.0   9.4  1010.0  \n",
       "2       21.1  25.5   41.0   8.2  1007.7  \n",
       "3       20.8  27.1   10.0   9.3  1004.4  \n",
       "4       22.7  30.0    9.0   9.7  1002.0  \n",
       "...      ...   ...    ...   ...     ...  \n",
       "324642  18.6  25.6    3.0  24.7  1013.7  \n",
       "324643  19.6  25.6    2.0  20.5  1013.0  \n",
       "324644  19.6  29.6   34.0  24.0  1015.4  \n",
       "324645  18.6  29.7   39.0  28.4  1017.6  \n",
       "324646  17.3  27.5   21.0  21.3  1018.6  \n",
       "\n",
       "[324647 rows x 11 columns]"
      ]
     },
     "execution_count": 3,
     "metadata": {},
     "output_type": "execute_result"
    }
   ],
   "source": [
    "weather_df = pd.read_csv('data/raw/daily_weather_data.csv')\n",
    "weather_df"
   ]
  },
  {
   "cell_type": "code",
   "execution_count": 4,
   "metadata": {},
   "outputs": [
    {
     "name": "stdout",
     "output_type": "stream",
     "text": [
      "Số dòng: 324647\n",
      "Số cột: 11\n"
     ]
    }
   ],
   "source": [
    "num_rows, num_cols = weather_df.shape\n",
    "print('Số dòng: {}\\nSố cột: {}'.format(num_rows, num_cols))"
   ]
  },
  {
   "cell_type": "markdown",
   "metadata": {},
   "source": [
    "Dữ liệu có tất cả 324647 dòng và 11 cột "
   ]
  },
  {
   "cell_type": "code",
   "execution_count": 5,
   "metadata": {},
   "outputs": [
    {
     "data": {
      "text/plain": [
       "['date',\n",
       " 'country',\n",
       " 'city',\n",
       " 'Latitude',\n",
       " 'Longitude',\n",
       " 'tavg',\n",
       " 'tmin',\n",
       " 'tmax',\n",
       " 'wdir',\n",
       " 'wspd',\n",
       " 'pres']"
      ]
     },
     "execution_count": 5,
     "metadata": {},
     "output_type": "execute_result"
    }
   ],
   "source": [
    "weather_df.columns.tolist()"
   ]
  },
  {
   "cell_type": "markdown",
   "metadata": {},
   "source": [
    "Ý nghĩa của 11 cột dữ liệu:  \n",
    "* **date**: Ngày mà dữ liệu được ghi lại  \n",
    "* **country**: Tên quốc gia\n",
    "* **city**: Tên thành phố  \n",
    "* **Latitude**: Giá trị vĩ độ của thành phố  \n",
    "* **Longtitude**: Giá trị kinh độ của thành phố  \n",
    "* **tavg**: Nhiệt độ trung bình theo đơn vị °C  \n",
    "* **tmax**: Nhiệt độ cao nhất theo đơn vị °C  \n",
    "* **tmin**: Nhiệt độ thấp nhất theo đơn vị °C  \n",
    "* **wdir**: Hướng gió phổ biến tính bằng độ (°)  \n",
    "* **wspd**: Tốc độ gió trung bình theo km/h  \n",
    "* **pres**: Áp suất khí quyển trung bình theo đơn vị hPa"
   ]
  },
  {
   "cell_type": "code",
   "execution_count": 6,
   "metadata": {},
   "outputs": [
    {
     "data": {
      "text/plain": [
       "date          object\n",
       "country       object\n",
       "city          object\n",
       "Latitude     float64\n",
       "Longitude    float64\n",
       "tavg         float64\n",
       "tmin         float64\n",
       "tmax         float64\n",
       "wdir         float64\n",
       "wspd         float64\n",
       "pres         float64\n",
       "dtype: object"
      ]
     },
     "execution_count": 6,
     "metadata": {},
     "output_type": "execute_result"
    }
   ],
   "source": [
    "weather_df.dtypes"
   ]
  },
  {
   "cell_type": "markdown",
   "metadata": {},
   "source": [
    "kiểu dữ liệu của từng cột trong dataframe. Trong 11 cột thì có 3 cột là kiểu categorical, các cột còn lại là các cột numeric."
   ]
  },
  {
   "cell_type": "code",
   "execution_count": 7,
   "metadata": {},
   "outputs": [
    {
     "data": {
      "text/html": [
       "<div>\n",
       "<style scoped>\n",
       "    .dataframe tbody tr th:only-of-type {\n",
       "        vertical-align: middle;\n",
       "    }\n",
       "\n",
       "    .dataframe tbody tr th {\n",
       "        vertical-align: top;\n",
       "    }\n",
       "\n",
       "    .dataframe thead th {\n",
       "        text-align: right;\n",
       "    }\n",
       "</style>\n",
       "<table border=\"1\" class=\"dataframe\">\n",
       "  <thead>\n",
       "    <tr style=\"text-align: right;\">\n",
       "      <th></th>\n",
       "      <th>tavg</th>\n",
       "      <th>tmin</th>\n",
       "      <th>tmax</th>\n",
       "      <th>wdir</th>\n",
       "      <th>wspd</th>\n",
       "      <th>pres</th>\n",
       "    </tr>\n",
       "  </thead>\n",
       "  <tbody>\n",
       "    <tr>\n",
       "      <th>mean</th>\n",
       "      <td>21.02</td>\n",
       "      <td>17.4</td>\n",
       "      <td>25.04</td>\n",
       "      <td>163.81</td>\n",
       "      <td>13.32</td>\n",
       "      <td>1013.28</td>\n",
       "    </tr>\n",
       "    <tr>\n",
       "      <th>min</th>\n",
       "      <td>-33.80</td>\n",
       "      <td>-39.3</td>\n",
       "      <td>-27.30</td>\n",
       "      <td>0.00</td>\n",
       "      <td>0.00</td>\n",
       "      <td>860.20</td>\n",
       "    </tr>\n",
       "    <tr>\n",
       "      <th>25%</th>\n",
       "      <td>15.60</td>\n",
       "      <td>11.3</td>\n",
       "      <td>19.80</td>\n",
       "      <td>81.00</td>\n",
       "      <td>8.10</td>\n",
       "      <td>1009.90</td>\n",
       "    </tr>\n",
       "    <tr>\n",
       "      <th>50%</th>\n",
       "      <td>25.00</td>\n",
       "      <td>21.3</td>\n",
       "      <td>28.60</td>\n",
       "      <td>142.00</td>\n",
       "      <td>11.60</td>\n",
       "      <td>1012.90</td>\n",
       "    </tr>\n",
       "    <tr>\n",
       "      <th>75%</th>\n",
       "      <td>27.50</td>\n",
       "      <td>24.5</td>\n",
       "      <td>31.20</td>\n",
       "      <td>251.00</td>\n",
       "      <td>16.90</td>\n",
       "      <td>1016.80</td>\n",
       "    </tr>\n",
       "    <tr>\n",
       "      <th>max</th>\n",
       "      <td>44.10</td>\n",
       "      <td>38.5</td>\n",
       "      <td>89.60</td>\n",
       "      <td>360.00</td>\n",
       "      <td>105.50</td>\n",
       "      <td>1058.00</td>\n",
       "    </tr>\n",
       "  </tbody>\n",
       "</table>\n",
       "</div>"
      ],
      "text/plain": [
       "       tavg  tmin   tmax    wdir    wspd     pres\n",
       "mean  21.02  17.4  25.04  163.81   13.32  1013.28\n",
       "min  -33.80 -39.3 -27.30    0.00    0.00   860.20\n",
       "25%   15.60  11.3  19.80   81.00    8.10  1009.90\n",
       "50%   25.00  21.3  28.60  142.00   11.60  1012.90\n",
       "75%   27.50  24.5  31.20  251.00   16.90  1016.80\n",
       "max   44.10  38.5  89.60  360.00  105.50  1058.00"
      ]
     },
     "execution_count": 7,
     "metadata": {},
     "output_type": "execute_result"
    }
   ],
   "source": [
    "weather_df[['tavg', 'tmin', 'tmax', 'wdir', 'wspd', 'pres']].describe().drop(index = ['count', 'std']).round(2)"
   ]
  },
  {
   "cell_type": "markdown",
   "metadata": {},
   "source": [
    "Bảng thông số thống kê bản của các cột dữ liệu numeric"
   ]
  },
  {
   "cell_type": "code",
   "execution_count": 8,
   "metadata": {},
   "outputs": [
    {
     "data": {
      "text/html": [
       "<div>\n",
       "<style scoped>\n",
       "    .dataframe tbody tr th:only-of-type {\n",
       "        vertical-align: middle;\n",
       "    }\n",
       "\n",
       "    .dataframe tbody tr th {\n",
       "        vertical-align: top;\n",
       "    }\n",
       "\n",
       "    .dataframe thead th {\n",
       "        text-align: right;\n",
       "    }\n",
       "</style>\n",
       "<table border=\"1\" class=\"dataframe\">\n",
       "  <thead>\n",
       "    <tr style=\"text-align: right;\">\n",
       "      <th></th>\n",
       "      <th>city</th>\n",
       "      <th>country</th>\n",
       "    </tr>\n",
       "  </thead>\n",
       "  <tbody>\n",
       "    <tr>\n",
       "      <th>count</th>\n",
       "      <td>324647</td>\n",
       "      <td>324647</td>\n",
       "    </tr>\n",
       "    <tr>\n",
       "      <th>unique</th>\n",
       "      <td>192</td>\n",
       "      <td>194</td>\n",
       "    </tr>\n",
       "    <tr>\n",
       "      <th>top</th>\n",
       "      <td>Kingston</td>\n",
       "      <td>Macau</td>\n",
       "    </tr>\n",
       "    <tr>\n",
       "      <th>freq</th>\n",
       "      <td>3490</td>\n",
       "      <td>1745</td>\n",
       "    </tr>\n",
       "  </tbody>\n",
       "</table>\n",
       "</div>"
      ],
      "text/plain": [
       "            city country\n",
       "count     324647  324647\n",
       "unique       192     194\n",
       "top     Kingston   Macau\n",
       "freq        3490    1745"
      ]
     },
     "execution_count": 8,
     "metadata": {},
     "output_type": "execute_result"
    }
   ],
   "source": [
    "weather_df[['city', 'country']].describe()"
   ]
  },
  {
   "cell_type": "markdown",
   "metadata": {},
   "source": [
    "Bảng thông số thông kê cơ bản của các cột dữ liệu categorical.  \n",
    "* Có 194 nước và 192 thành phố khác nhau.\n",
    "* Quốc gia và thành phố có nhiều dòng dữ liệu nhất thuộc về Macau và Kingston, với lần lượt là 3490 và 1745 dòng."
   ]
  },
  {
   "cell_type": "code",
   "execution_count": 15,
   "metadata": {},
   "outputs": [
    {
     "data": {
      "text/plain": [
       "wdir         12.540\n",
       "pres         10.852\n",
       "wspd          6.853\n",
       "tmax          3.813\n",
       "tmin          3.808\n",
       "tavg          2.983\n",
       "date          0.000\n",
       "country       0.000\n",
       "city          0.000\n",
       "Latitude      0.000\n",
       "Longitude     0.000\n",
       "dtype: float64"
      ]
     },
     "execution_count": 15,
     "metadata": {},
     "output_type": "execute_result"
    }
   ],
   "source": [
    "def missing_ratio(s):\n",
    "  return s.isna().mean()*100\n",
    "\n",
    "weather_df.agg(missing_ratio).round(3).sort_values(ascending = False)"
   ]
  },
  {
   "cell_type": "markdown",
   "metadata": {},
   "source": [
    "Tỉ lệ dữ liệu thiếu đối với từng cột dữ liệu với 6 cột bị thiếu dữ liệu, trong đó 3 cột wdir, pres, wspd có tỉ lệ thiếu hơn 5%. "
   ]
  },
  {
   "cell_type": "code",
   "execution_count": 31,
   "metadata": {},
   "outputs": [
    {
     "data": {
      "image/png": "[encoded data removed]",
      "text/plain": [
       "<Figure size 1152x576 with 6 Axes>"
      ]
     },
     "metadata": {},
     "output_type": "display_data"
    }
   ],
   "source": [
    "numeric_df = weather_df[['tavg', 'tmin', 'tmax', 'wdir', 'wspd', 'pres']]\n",
    "col_describe = {\n",
    "  'tavg' : 'average air tempurature (°C)', 'tmin' : 'minimum air tempurature (°C)',\n",
    "  'tmax' : 'maximum air tempurature (°C)', 'wdir' : 'average wind direction (°)',\n",
    "  'wspd' : 'average wind speed (km/h)', 'pres' : 'average sea-level air pressure (hPa)'\n",
    "  }\n",
    "cols = list(col_describe.keys())\n",
    "fig, axes = plt.subplots(2,3, figsize = (16,8))\n",
    "for i,ax in enumerate(axes.flat):\n",
    "  sns.histplot(data = numeric_df, x = cols[i], ax = ax)\n",
    "  ax.set_xlabel(col_describe[cols[i]])\n",
    "fig.tight_layout()"
   ]
  }
 ],
 "metadata": {
  "kernelspec": {
   "display_name": "Python 3.10.1 64-bit",
   "language": "python",
   "name": "python3"
  },
  "language_info": {
   "codemirror_mode": {
    "name": "ipython",
    "version": 3
   },
   "file_extension": ".py",
   "mimetype": "text/x-python",
   "name": "python",
   "nbconvert_exporter": "python",
   "pygments_lexer": "ipython3",
   "version": "3.10.1"
  },
  "orig_nbformat": 4,
  "vscode": {
   "interpreter": {
    "hash": "2469a70536e4d2335a2ea8907942d0699c37342a371ac185bdb5b0aa6f073890"
   }
  }
 },
 "nbformat": 4,
 "nbformat_minor": 2
}
